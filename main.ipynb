{
 "cells": [
  {
   "cell_type": "code",
   "execution_count": 1,
   "metadata": {},
   "outputs": [],
   "source": [
    "import os\n",
    "import numpy as np\n",
    "import pandas as pd\n",
    "from tensorflow.keras.preprocessing.image import load_img, img_to_array\n",
    "from tensorflow.keras.preprocessing.image import ImageDataGenerator\n",
    "from tensorflow.keras.utils import to_categorical\n",
    "from tensorflow.keras.models import Sequential\n",
    "from tensorflow.keras.layers import Conv2D, ConvLSTM2D, MaxPooling2D, Flatten, Dense, Dropout, BatchNormalization\n",
    "from tensorflow.keras.optimizers import Adam\n",
    "from tensorflow.keras import regularizers\n",
    "import tensorflow as tf\n",
    "import matplotlib.pyplot as plt\n",
    "import seaborn as sns\n",
    "from sklearn.metrics import classification_report, confusion_matrix\n",
    "from tensorflow.keras.models import Model\n",
    "from scipy.spatial import distance\n",
    "from sklearn.preprocessing import normalize\n",
    "from PIL import Image\n",
    "from scipy.spatial.distance import cdist # 创建函数来查找测试图像的最近邻\n",
    "from sklearn.decomposition import PCA\n",
    "from sklearn.manifold import TSNE\n",
    "from sklearn.preprocessing import LabelEncoder\n",
    "import types\n",
    "from PIL import Image\n",
    "Image.MAX_IMAGE_PIXELS = None  # 取消大小限制"
   ]
  },
  {
   "cell_type": "code",
   "execution_count": 2,
   "metadata": {},
   "outputs": [
    {
     "name": "stdout",
     "output_type": "stream",
     "text": [
      "成功加载 CSV 文件！\n",
      "                                          image_path  class_index\n",
      "0  Impressionism/edgar-degas_landscape-on-the-orn...           12\n",
      "1         Realism/camille-corot_mantes-cathedral.jpg           21\n",
      "2  Abstract_Expressionism/gene-davis_untitled-197...            0\n",
      "3      Symbolism/kuzma-petrov-vodkin_in-the-1920.jpg           24\n",
      "4  Impressionism/maurice-prendergast_paris-boulev...           12\n",
      "                                          image_path  class_index\n",
      "0  Impressionism/edgar-degas_dancers-on-set-1880.jpg           12\n",
      "1      Impressionism/claude-monet_water-lilies-6.jpg           12\n",
      "2  Impressionism/giovanni-boldini_a-guitar-player...           12\n",
      "3  Impressionism/john-singer-sargent_at-torre-gal...           12\n",
      "4  Impressionism/john-singer-sargent_artist-in-th...           12\n",
      "训练数据与标签:\n",
      "                                          image_path  class_index\n",
      "0  Impressionism/edgar-degas_landscape-on-the-orn...           12\n",
      "1         Realism/camille-corot_mantes-cathedral.jpg           21\n",
      "2  Abstract_Expressionism/gene-davis_untitled-197...            0\n",
      "3      Symbolism/kuzma-petrov-vodkin_in-the-1920.jpg           24\n",
      "4  Impressionism/maurice-prendergast_paris-boulev...           12\n",
      "验证数据与标签:\n",
      "                                          image_path  class_index\n",
      "0  Impressionism/edgar-degas_dancers-on-set-1880.jpg           12\n",
      "1      Impressionism/claude-monet_water-lilies-6.jpg           12\n",
      "2  Impressionism/giovanni-boldini_a-guitar-player...           12\n",
      "3  Impressionism/john-singer-sargent_at-torre-gal...           12\n",
      "4  Impressionism/john-singer-sargent_artist-in-th...           12\n"
     ]
    }
   ],
   "source": [
    "# 加载不同的 CSV 文件\n",
    "try:\n",
    "    # 读取训练和验证数据\n",
    "    style_train_data = pd.read_csv('wikiart_csv/Style_train.csv', header=None)\n",
    "    style_train_data.columns = ['image_path', 'class_index']\n",
    "    \n",
    "    style_val_data = pd.read_csv('wikiart_csv/Style_val.csv', header=None)\n",
    "    style_val_data.columns = ['image_path', 'class_index']\n",
    "    \n",
    "    # 查看数据的前几行\n",
    "    print(\"成功加载 CSV 文件！\")\n",
    "    print(style_train_data.head())\n",
    "    print(style_val_data.head())\n",
    "    \n",
    "    # 提取所有类别，进行独热编码处理\n",
    "    # all_labels = pd.concat([style_train_data['class_index'], style_val_data['class_index']])\n",
    "    # num_classes = all_labels.nunique()  # 获取不同类别的数量\n",
    "    \n",
    "    # 创建一个 LabelEncoder 将标签转化为独热编码\n",
    "    # label_encoder = LabelEncoder()\n",
    "    # all_labels_encoded = label_encoder.fit_transform(all_labels)\n",
    "    \n",
    "    # 为训练和验证数据添加独热编码标签\n",
    "    # 使用 pd.get_dummies 方法来生成独热编码\n",
    "    # 注意: pd.get_dummies 输出的是一个 DataFrame，需要将其单列提取出来并展平为数组\n",
    "    # style_train_data['one_hot_label'] = pd.get_dummies(style_train_data['class_index']).values.tolist()\n",
    "    # style_val_data['one_hot_label'] = pd.get_dummies(style_val_data['class_index']).values.tolist()\n",
    "\n",
    "    # 查看独热编码后的数据\n",
    "    print(\"训练数据与标签:\")\n",
    "    print(style_train_data[['image_path', 'class_index']].head())\n",
    "    print(\"验证数据与标签:\")\n",
    "    print(style_val_data[['image_path', 'class_index']].head())\n",
    "\n",
    "except FileNotFoundError as e:\n",
    "    print(f\"找不到 CSV 文件: {e}\")\n",
    "except pd.errors.EmptyDataError:\n",
    "    print(\"CSV 文件为空！\")\n",
    "except pd.errors.ParserError:\n",
    "    print(\"CSV 文件解析错误！\")\n"
   ]
  },
  {
   "cell_type": "code",
   "execution_count": 3,
   "metadata": {},
   "outputs": [
    {
     "name": "stdout",
     "output_type": "stream",
     "text": [
      "数据目录存在: wikiart\n"
     ]
    }
   ],
   "source": [
    "data_dir = 'wikiart'  # 数据目录\n",
    "if not os.path.exists(data_dir):\n",
    "    print(f\"数据目录不存在: {data_dir}\")\n",
    "else:\n",
    "    print(f\"数据目录存在: {data_dir}\")\n"
   ]
  },
  {
   "cell_type": "code",
   "execution_count": 4,
   "metadata": {},
   "outputs": [],
   "source": [
    "# 调整图像大小\n",
    "img_size = (128, 128)  \n",
    "batch_size = 32"
   ]
  },
  {
   "cell_type": "code",
   "execution_count": 5,
   "metadata": {},
   "outputs": [],
   "source": [
    "class ImageLabelGenerator(tf.keras.utils.Sequence):\n",
    "    def __init__(self, data_frame, data_dir, batch_size, img_size, shuffle=True, num_classes=10):\n",
    "        self.data_frame = data_frame\n",
    "        self.data_dir = data_dir\n",
    "        self.batch_size = batch_size\n",
    "        self.img_size = img_size\n",
    "        self.shuffle = shuffle\n",
    "        self.num_classes = num_classes  \n",
    "        self.indexes = np.arange(len(self.data_frame))\n",
    "\n",
    "    def __len__(self):\n",
    "        # 返回每个 epoch 需要多少步\n",
    "        return int(np.floor(len(self.data_frame) / self.batch_size))\n",
    "\n",
    "    def __getitem__(self, index):\n",
    "        max_attempts = 3  # 最多尝试 3 次\n",
    "        attempts = 0\n",
    "\n",
    "        while attempts < max_attempts:\n",
    "            batch_indexes = self.indexes[index * self.batch_size : (index + 1) * self.batch_size]\n",
    "            batch_images = []\n",
    "            batch_labels = []\n",
    "\n",
    "            for i in batch_indexes:\n",
    "                img_path = os.path.join(self.data_dir, self.data_frame.iloc[i, 0])\n",
    "                try:\n",
    "                    img = load_img(img_path, target_size=self.img_size)\n",
    "                    img = img_to_array(img) / 255.0  # 归一化\n",
    "                    label = self.data_frame.iloc[i, 1]  # 正确获取标签\n",
    "                except Exception as e:\n",
    "                    print(f\"Error loading image {img_path}: {e}\")\n",
    "                    continue  # 跳过无法加载的图像\n",
    "                batch_images.append(img)\n",
    "                batch_labels.append(label)\n",
    "\n",
    "            # 打印每个批次的标签和图像形状\n",
    "            #print(f\"当前批次标签：{len(batch_labels)}, 图像形状：{np.array(batch_images).shape}\")\n",
    "\n",
    "            # 如果有有效的图像，返回批次数据\n",
    "            if len(batch_images) > 0:\n",
    "                return np.array(batch_images), to_categorical(np.array(batch_labels), num_classes=self.num_classes)\n",
    "\n",
    "            attempts += 1\n",
    "            print(f\"尝试加载失败，重新尝试第 {attempts} 次...\")\n",
    "\n",
    "        # 如果连续几次都失败，则抛出异常\n",
    "        raise ValueError(\"连续几次尝试后仍无法加载有效数据，请检查数据路径和格式！\")\n",
    "\n",
    "    def on_epoch_end(self):\n",
    "        if self.shuffle:\n",
    "            np.random.shuffle(self.indexes)\n",
    "            print(\"已打乱数据顺序\")\n",
    "        # 当数据不足以完成当前批次时，确保生成器可以重新迭代数据集\n",
    "        self.indexes = np.arange(len(self.data_frame))  # 确保索引每个 epoch 都能循环\n",
    "\n"
   ]
  },
  {
   "cell_type": "code",
   "execution_count": 6,
   "metadata": {},
   "outputs": [
    {
     "name": "stdout",
     "output_type": "stream",
     "text": [
      "Style 类别数: 27\n"
     ]
    }
   ],
   "source": [
    "# 设置类别数\n",
    "num_classes_style = len(style_train_data['class_index'].unique())\n",
    "\n",
    "# 使用生成器加载训练数据和验证数据\n",
    "# 创建生成器\n",
    "# 创建生成器\n",
    "train_gen_style = ImageLabelGenerator(style_train_data, data_dir, batch_size, img_size, shuffle=True, num_classes=num_classes_style)\n",
    "val_gen_style = ImageLabelGenerator(style_val_data, data_dir, batch_size, img_size, shuffle=False, num_classes=num_classes_style)\n",
    "\n",
    "# 查看数据\n",
    "print(\"Style 类别数:\", num_classes_style)"
   ]
  },
  {
   "cell_type": "code",
   "execution_count": 7,
   "metadata": {},
   "outputs": [
    {
     "name": "stdout",
     "output_type": "stream",
     "text": [
      "The shape for original image batch is (32, 128, 128, 3) \n",
      "This means that there are 32 images in a training batch, with size of 128 by 128\n",
      "\n",
      "Use the 1st image inside the training batch as an example. \n",
      "The shape for original label batch is (32, 27) \n",
      "The minimum value for original pixel is 0.0 \n",
      "The maximum value for original pixel is 1.0 \n",
      "The mean value for original pixel is 0.4173235 \n",
      "The standard derivative value for original pixel is 0.25249636\n"
     ]
    }
   ],
   "source": [
    "# Check value for image pixel \n",
    "# Notice that they already within 0-255\n",
    "image_batch_original, labels_batch_original = next(iter(train_gen_style))\n",
    "first_image = image_batch_original[0]\n",
    "\n",
    "print(\"The shape for original image batch is\", image_batch_original.shape,\n",
    "      \"\\nThis means that there are\",image_batch_original.shape[0],\"images in a training batch,\",\n",
    "      \"with size of\",image_batch_original.shape[1],\"by\",image_batch_original.shape[2] )\n",
    "\n",
    "print(\"\\nUse the 1st image inside the training batch as an example.\",\n",
    "      \"\\nThe shape for original label batch is\", labels_batch_original.shape,\n",
    "      \"\\nThe minimum value for original pixel is\", np.min(first_image),\n",
    "      \"\\nThe maximum value for original pixel is\", np.max(first_image),\n",
    "      \"\\nThe mean value for original pixel is\", np.mean(first_image),\n",
    "      \"\\nThe standard derivative value for original pixel is\", np.std(first_image))"
   ]
  },
  {
   "cell_type": "markdown",
   "metadata": {},
   "source": [
    "### ConvLSTM\n",
    "- 卷积部分 (Conv2D): 提取图像的空间特征。\n",
    "- LSTM 部分: 图像的局部特征序列"
   ]
  },
  {
   "cell_type": "code",
   "execution_count": 8,
   "metadata": {},
   "outputs": [
    {
     "name": "stderr",
     "output_type": "stream",
     "text": [
      "/Library/Frameworks/Python.framework/Versions/3.12/lib/python3.12/site-packages/keras/src/layers/rnn/rnn.py:205: UserWarning: Do not pass an `input_shape`/`input_dim` argument to a layer. When using Sequential models, prefer using an `Input(shape)` object as the first layer in the model instead.\n",
      "  super().__init__(**kwargs)\n"
     ]
    },
    {
     "data": {
      "text/html": [
       "<pre style=\"white-space:pre;overflow-x:auto;line-height:normal;font-family:Menlo,'DejaVu Sans Mono',consolas,'Courier New',monospace\"><span style=\"font-weight: bold\">Model: \"sequential\"</span>\n",
       "</pre>\n"
      ],
      "text/plain": [
       "\u001b[1mModel: \"sequential\"\u001b[0m\n"
      ]
     },
     "metadata": {},
     "output_type": "display_data"
    },
    {
     "data": {
      "text/html": [
       "<pre style=\"white-space:pre;overflow-x:auto;line-height:normal;font-family:Menlo,'DejaVu Sans Mono',consolas,'Courier New',monospace\">┏━━━━━━━━━━━━━━━━━━━━━━━━━━━━━━━━━┳━━━━━━━━━━━━━━━━━━━━━━━━┳━━━━━━━━━━━━━━━┓\n",
       "┃<span style=\"font-weight: bold\"> Layer (type)                    </span>┃<span style=\"font-weight: bold\"> Output Shape           </span>┃<span style=\"font-weight: bold\">       Param # </span>┃\n",
       "┡━━━━━━━━━━━━━━━━━━━━━━━━━━━━━━━━━╇━━━━━━━━━━━━━━━━━━━━━━━━╇━━━━━━━━━━━━━━━┩\n",
       "│ conv_lstm2d (<span style=\"color: #0087ff; text-decoration-color: #0087ff\">ConvLSTM2D</span>)        │ (<span style=\"color: #00d7ff; text-decoration-color: #00d7ff\">None</span>, <span style=\"color: #00af00; text-decoration-color: #00af00\">126</span>, <span style=\"color: #00af00; text-decoration-color: #00af00\">126</span>, <span style=\"color: #00af00; text-decoration-color: #00af00\">32</span>)   │        <span style=\"color: #00af00; text-decoration-color: #00af00\">40,448</span> │\n",
       "├─────────────────────────────────┼────────────────────────┼───────────────┤\n",
       "│ batch_normalization             │ (<span style=\"color: #00d7ff; text-decoration-color: #00d7ff\">None</span>, <span style=\"color: #00af00; text-decoration-color: #00af00\">126</span>, <span style=\"color: #00af00; text-decoration-color: #00af00\">126</span>, <span style=\"color: #00af00; text-decoration-color: #00af00\">32</span>)   │           <span style=\"color: #00af00; text-decoration-color: #00af00\">128</span> │\n",
       "│ (<span style=\"color: #0087ff; text-decoration-color: #0087ff\">BatchNormalization</span>)            │                        │               │\n",
       "├─────────────────────────────────┼────────────────────────┼───────────────┤\n",
       "│ conv2d (<span style=\"color: #0087ff; text-decoration-color: #0087ff\">Conv2D</span>)                 │ (<span style=\"color: #00d7ff; text-decoration-color: #00d7ff\">None</span>, <span style=\"color: #00af00; text-decoration-color: #00af00\">126</span>, <span style=\"color: #00af00; text-decoration-color: #00af00\">126</span>, <span style=\"color: #00af00; text-decoration-color: #00af00\">64</span>)   │        <span style=\"color: #00af00; text-decoration-color: #00af00\">18,496</span> │\n",
       "├─────────────────────────────────┼────────────────────────┼───────────────┤\n",
       "│ conv2d_1 (<span style=\"color: #0087ff; text-decoration-color: #0087ff\">Conv2D</span>)               │ (<span style=\"color: #00d7ff; text-decoration-color: #00d7ff\">None</span>, <span style=\"color: #00af00; text-decoration-color: #00af00\">126</span>, <span style=\"color: #00af00; text-decoration-color: #00af00\">126</span>, <span style=\"color: #00af00; text-decoration-color: #00af00\">64</span>)   │        <span style=\"color: #00af00; text-decoration-color: #00af00\">36,928</span> │\n",
       "├─────────────────────────────────┼────────────────────────┼───────────────┤\n",
       "│ max_pooling2d (<span style=\"color: #0087ff; text-decoration-color: #0087ff\">MaxPooling2D</span>)    │ (<span style=\"color: #00d7ff; text-decoration-color: #00d7ff\">None</span>, <span style=\"color: #00af00; text-decoration-color: #00af00\">63</span>, <span style=\"color: #00af00; text-decoration-color: #00af00\">63</span>, <span style=\"color: #00af00; text-decoration-color: #00af00\">64</span>)     │             <span style=\"color: #00af00; text-decoration-color: #00af00\">0</span> │\n",
       "├─────────────────────────────────┼────────────────────────┼───────────────┤\n",
       "│ conv2d_2 (<span style=\"color: #0087ff; text-decoration-color: #0087ff\">Conv2D</span>)               │ (<span style=\"color: #00d7ff; text-decoration-color: #00d7ff\">None</span>, <span style=\"color: #00af00; text-decoration-color: #00af00\">61</span>, <span style=\"color: #00af00; text-decoration-color: #00af00\">61</span>, <span style=\"color: #00af00; text-decoration-color: #00af00\">128</span>)    │        <span style=\"color: #00af00; text-decoration-color: #00af00\">73,856</span> │\n",
       "├─────────────────────────────────┼────────────────────────┼───────────────┤\n",
       "│ conv2d_3 (<span style=\"color: #0087ff; text-decoration-color: #0087ff\">Conv2D</span>)               │ (<span style=\"color: #00d7ff; text-decoration-color: #00d7ff\">None</span>, <span style=\"color: #00af00; text-decoration-color: #00af00\">59</span>, <span style=\"color: #00af00; text-decoration-color: #00af00\">59</span>, <span style=\"color: #00af00; text-decoration-color: #00af00\">128</span>)    │       <span style=\"color: #00af00; text-decoration-color: #00af00\">147,584</span> │\n",
       "├─────────────────────────────────┼────────────────────────┼───────────────┤\n",
       "│ max_pooling2d_1 (<span style=\"color: #0087ff; text-decoration-color: #0087ff\">MaxPooling2D</span>)  │ (<span style=\"color: #00d7ff; text-decoration-color: #00d7ff\">None</span>, <span style=\"color: #00af00; text-decoration-color: #00af00\">29</span>, <span style=\"color: #00af00; text-decoration-color: #00af00\">29</span>, <span style=\"color: #00af00; text-decoration-color: #00af00\">128</span>)    │             <span style=\"color: #00af00; text-decoration-color: #00af00\">0</span> │\n",
       "├─────────────────────────────────┼────────────────────────┼───────────────┤\n",
       "│ dropout (<span style=\"color: #0087ff; text-decoration-color: #0087ff\">Dropout</span>)               │ (<span style=\"color: #00d7ff; text-decoration-color: #00d7ff\">None</span>, <span style=\"color: #00af00; text-decoration-color: #00af00\">29</span>, <span style=\"color: #00af00; text-decoration-color: #00af00\">29</span>, <span style=\"color: #00af00; text-decoration-color: #00af00\">128</span>)    │             <span style=\"color: #00af00; text-decoration-color: #00af00\">0</span> │\n",
       "├─────────────────────────────────┼────────────────────────┼───────────────┤\n",
       "│ flatten (<span style=\"color: #0087ff; text-decoration-color: #0087ff\">Flatten</span>)               │ (<span style=\"color: #00d7ff; text-decoration-color: #00d7ff\">None</span>, <span style=\"color: #00af00; text-decoration-color: #00af00\">107648</span>)         │             <span style=\"color: #00af00; text-decoration-color: #00af00\">0</span> │\n",
       "├─────────────────────────────────┼────────────────────────┼───────────────┤\n",
       "│ dense (<span style=\"color: #0087ff; text-decoration-color: #0087ff\">Dense</span>)                   │ (<span style=\"color: #00d7ff; text-decoration-color: #00d7ff\">None</span>, <span style=\"color: #00af00; text-decoration-color: #00af00\">128</span>)            │    <span style=\"color: #00af00; text-decoration-color: #00af00\">13,779,072</span> │\n",
       "├─────────────────────────────────┼────────────────────────┼───────────────┤\n",
       "│ dropout_1 (<span style=\"color: #0087ff; text-decoration-color: #0087ff\">Dropout</span>)             │ (<span style=\"color: #00d7ff; text-decoration-color: #00d7ff\">None</span>, <span style=\"color: #00af00; text-decoration-color: #00af00\">128</span>)            │             <span style=\"color: #00af00; text-decoration-color: #00af00\">0</span> │\n",
       "├─────────────────────────────────┼────────────────────────┼───────────────┤\n",
       "│ dense_1 (<span style=\"color: #0087ff; text-decoration-color: #0087ff\">Dense</span>)                 │ (<span style=\"color: #00d7ff; text-decoration-color: #00d7ff\">None</span>, <span style=\"color: #00af00; text-decoration-color: #00af00\">27</span>)             │         <span style=\"color: #00af00; text-decoration-color: #00af00\">3,483</span> │\n",
       "└─────────────────────────────────┴────────────────────────┴───────────────┘\n",
       "</pre>\n"
      ],
      "text/plain": [
       "┏━━━━━━━━━━━━━━━━━━━━━━━━━━━━━━━━━┳━━━━━━━━━━━━━━━━━━━━━━━━┳━━━━━━━━━━━━━━━┓\n",
       "┃\u001b[1m \u001b[0m\u001b[1mLayer (type)                   \u001b[0m\u001b[1m \u001b[0m┃\u001b[1m \u001b[0m\u001b[1mOutput Shape          \u001b[0m\u001b[1m \u001b[0m┃\u001b[1m \u001b[0m\u001b[1m      Param #\u001b[0m\u001b[1m \u001b[0m┃\n",
       "┡━━━━━━━━━━━━━━━━━━━━━━━━━━━━━━━━━╇━━━━━━━━━━━━━━━━━━━━━━━━╇━━━━━━━━━━━━━━━┩\n",
       "│ conv_lstm2d (\u001b[38;5;33mConvLSTM2D\u001b[0m)        │ (\u001b[38;5;45mNone\u001b[0m, \u001b[38;5;34m126\u001b[0m, \u001b[38;5;34m126\u001b[0m, \u001b[38;5;34m32\u001b[0m)   │        \u001b[38;5;34m40,448\u001b[0m │\n",
       "├─────────────────────────────────┼────────────────────────┼───────────────┤\n",
       "│ batch_normalization             │ (\u001b[38;5;45mNone\u001b[0m, \u001b[38;5;34m126\u001b[0m, \u001b[38;5;34m126\u001b[0m, \u001b[38;5;34m32\u001b[0m)   │           \u001b[38;5;34m128\u001b[0m │\n",
       "│ (\u001b[38;5;33mBatchNormalization\u001b[0m)            │                        │               │\n",
       "├─────────────────────────────────┼────────────────────────┼───────────────┤\n",
       "│ conv2d (\u001b[38;5;33mConv2D\u001b[0m)                 │ (\u001b[38;5;45mNone\u001b[0m, \u001b[38;5;34m126\u001b[0m, \u001b[38;5;34m126\u001b[0m, \u001b[38;5;34m64\u001b[0m)   │        \u001b[38;5;34m18,496\u001b[0m │\n",
       "├─────────────────────────────────┼────────────────────────┼───────────────┤\n",
       "│ conv2d_1 (\u001b[38;5;33mConv2D\u001b[0m)               │ (\u001b[38;5;45mNone\u001b[0m, \u001b[38;5;34m126\u001b[0m, \u001b[38;5;34m126\u001b[0m, \u001b[38;5;34m64\u001b[0m)   │        \u001b[38;5;34m36,928\u001b[0m │\n",
       "├─────────────────────────────────┼────────────────────────┼───────────────┤\n",
       "│ max_pooling2d (\u001b[38;5;33mMaxPooling2D\u001b[0m)    │ (\u001b[38;5;45mNone\u001b[0m, \u001b[38;5;34m63\u001b[0m, \u001b[38;5;34m63\u001b[0m, \u001b[38;5;34m64\u001b[0m)     │             \u001b[38;5;34m0\u001b[0m │\n",
       "├─────────────────────────────────┼────────────────────────┼───────────────┤\n",
       "│ conv2d_2 (\u001b[38;5;33mConv2D\u001b[0m)               │ (\u001b[38;5;45mNone\u001b[0m, \u001b[38;5;34m61\u001b[0m, \u001b[38;5;34m61\u001b[0m, \u001b[38;5;34m128\u001b[0m)    │        \u001b[38;5;34m73,856\u001b[0m │\n",
       "├─────────────────────────────────┼────────────────────────┼───────────────┤\n",
       "│ conv2d_3 (\u001b[38;5;33mConv2D\u001b[0m)               │ (\u001b[38;5;45mNone\u001b[0m, \u001b[38;5;34m59\u001b[0m, \u001b[38;5;34m59\u001b[0m, \u001b[38;5;34m128\u001b[0m)    │       \u001b[38;5;34m147,584\u001b[0m │\n",
       "├─────────────────────────────────┼────────────────────────┼───────────────┤\n",
       "│ max_pooling2d_1 (\u001b[38;5;33mMaxPooling2D\u001b[0m)  │ (\u001b[38;5;45mNone\u001b[0m, \u001b[38;5;34m29\u001b[0m, \u001b[38;5;34m29\u001b[0m, \u001b[38;5;34m128\u001b[0m)    │             \u001b[38;5;34m0\u001b[0m │\n",
       "├─────────────────────────────────┼────────────────────────┼───────────────┤\n",
       "│ dropout (\u001b[38;5;33mDropout\u001b[0m)               │ (\u001b[38;5;45mNone\u001b[0m, \u001b[38;5;34m29\u001b[0m, \u001b[38;5;34m29\u001b[0m, \u001b[38;5;34m128\u001b[0m)    │             \u001b[38;5;34m0\u001b[0m │\n",
       "├─────────────────────────────────┼────────────────────────┼───────────────┤\n",
       "│ flatten (\u001b[38;5;33mFlatten\u001b[0m)               │ (\u001b[38;5;45mNone\u001b[0m, \u001b[38;5;34m107648\u001b[0m)         │             \u001b[38;5;34m0\u001b[0m │\n",
       "├─────────────────────────────────┼────────────────────────┼───────────────┤\n",
       "│ dense (\u001b[38;5;33mDense\u001b[0m)                   │ (\u001b[38;5;45mNone\u001b[0m, \u001b[38;5;34m128\u001b[0m)            │    \u001b[38;5;34m13,779,072\u001b[0m │\n",
       "├─────────────────────────────────┼────────────────────────┼───────────────┤\n",
       "│ dropout_1 (\u001b[38;5;33mDropout\u001b[0m)             │ (\u001b[38;5;45mNone\u001b[0m, \u001b[38;5;34m128\u001b[0m)            │             \u001b[38;5;34m0\u001b[0m │\n",
       "├─────────────────────────────────┼────────────────────────┼───────────────┤\n",
       "│ dense_1 (\u001b[38;5;33mDense\u001b[0m)                 │ (\u001b[38;5;45mNone\u001b[0m, \u001b[38;5;34m27\u001b[0m)             │         \u001b[38;5;34m3,483\u001b[0m │\n",
       "└─────────────────────────────────┴────────────────────────┴───────────────┘\n"
      ]
     },
     "metadata": {},
     "output_type": "display_data"
    },
    {
     "data": {
      "text/html": [
       "<pre style=\"white-space:pre;overflow-x:auto;line-height:normal;font-family:Menlo,'DejaVu Sans Mono',consolas,'Courier New',monospace\"><span style=\"font-weight: bold\"> Total params: </span><span style=\"color: #00af00; text-decoration-color: #00af00\">14,099,995</span> (53.79 MB)\n",
       "</pre>\n"
      ],
      "text/plain": [
       "\u001b[1m Total params: \u001b[0m\u001b[38;5;34m14,099,995\u001b[0m (53.79 MB)\n"
      ]
     },
     "metadata": {},
     "output_type": "display_data"
    },
    {
     "data": {
      "text/html": [
       "<pre style=\"white-space:pre;overflow-x:auto;line-height:normal;font-family:Menlo,'DejaVu Sans Mono',consolas,'Courier New',monospace\"><span style=\"font-weight: bold\"> Trainable params: </span><span style=\"color: #00af00; text-decoration-color: #00af00\">14,099,931</span> (53.79 MB)\n",
       "</pre>\n"
      ],
      "text/plain": [
       "\u001b[1m Trainable params: \u001b[0m\u001b[38;5;34m14,099,931\u001b[0m (53.79 MB)\n"
      ]
     },
     "metadata": {},
     "output_type": "display_data"
    },
    {
     "data": {
      "text/html": [
       "<pre style=\"white-space:pre;overflow-x:auto;line-height:normal;font-family:Menlo,'DejaVu Sans Mono',consolas,'Courier New',monospace\"><span style=\"font-weight: bold\"> Non-trainable params: </span><span style=\"color: #00af00; text-decoration-color: #00af00\">64</span> (256.00 B)\n",
       "</pre>\n"
      ],
      "text/plain": [
       "\u001b[1m Non-trainable params: \u001b[0m\u001b[38;5;34m64\u001b[0m (256.00 B)\n"
      ]
     },
     "metadata": {},
     "output_type": "display_data"
    }
   ],
   "source": [
    "# 自定义生成器，扩展时间步维度\n",
    "def add_time_step_dimension(generator):\n",
    "    for images, labels in generator:\n",
    "        #print(f\"当前批次：{images.shape}, 标签：{labels.shape}\")\n",
    "        # 增加时间步维度: (batch_size, 128, 128, 3) -> (batch_size, 1, 128, 128, 3)\n",
    "        images = np.expand_dims(images, axis=1)  # 为了符合 ConvLSTM2D 的输入\n",
    "        yield images, labels\n",
    "\n",
    "train_gen = add_time_step_dimension(train_gen_style)\n",
    "val_gen = add_time_step_dimension(val_gen_style)\n",
    "\n",
    "# 创建 ConvLSTM 模型\n",
    "model = Sequential()\n",
    "\n",
    "# ConvLSTM2D 层\n",
    "time_steps = 1  # 目前只使用一个时间步，可以根据需要增加\n",
    "input_shape = (time_steps, img_size[0], img_size[1], 3)\n",
    "model.add(ConvLSTM2D(filters=32, \n",
    "                    kernel_size=(3, 3), \n",
    "                    activation='relu', \n",
    "                    input_shape=input_shape, \n",
    "                    return_sequences=False))  # 不返回序列\n",
    "\n",
    "# 批归一化\n",
    "model.add(BatchNormalization())\n",
    "\n",
    "# 卷积层\n",
    "model.add(Conv2D(64, kernel_size=(3, 3), activation='relu', padding='same'))\n",
    "model.add(Conv2D(64, kernel_size=(3, 3), activation='relu', padding='same'))\n",
    "model.add(MaxPooling2D(pool_size=(2, 2)))\n",
    "\n",
    "model.add(Conv2D(128, kernel_size=(3, 3), activation='relu'))\n",
    "model.add(Conv2D(128, kernel_size=(3, 3), activation='relu'))\n",
    "model.add(MaxPooling2D(pool_size=(2, 2)))\n",
    "\n",
    "# Dropout 层\n",
    "model.add(Dropout(0.3))\n",
    "\n",
    "# 展平层\n",
    "model.add(Flatten())  # 展平层，将多维的输入一维化\n",
    "model.add(Dense(128, activation='relu'))\n",
    "model.add(Dropout(0.3))\n",
    "\n",
    "# 输出层\n",
    "model.add(Dense(num_classes_style, activation='softmax', \n",
    "                kernel_regularizer=regularizers.L1L2(l1=0.001, l2=0.001)))  \n",
    "\n",
    "# 编译模型\n",
    "model.compile(optimizer=Adam(learning_rate=0.0001), \n",
    "            loss='categorical_crossentropy', \n",
    "            metrics=['accuracy'])\n",
    "\n",
    "model.summary()\n"
   ]
  },
  {
   "cell_type": "code",
   "execution_count": 9,
   "metadata": {},
   "outputs": [
    {
     "name": "stdout",
     "output_type": "stream",
     "text": [
      "训练集样本数: 57025\n",
      "验证集样本数: 24421\n",
      "steps_per_epoch: 40\n",
      "validation_steps: 5\n"
     ]
    }
   ],
   "source": [
    "train_sample_count = len(style_train_data)\n",
    "val_sample_count = len(style_val_data)\n",
    "\n",
    "print(\"训练集样本数:\", train_sample_count)\n",
    "print(\"验证集样本数:\", val_sample_count)\n",
    "\n",
    "# 计算每个 epoch 的步数\n",
    "#steps_per_epoch = int(np.ceil(train_sample_count / batch_size))\n",
    "#validation_steps = int(np.ceil(val_sample_count / batch_size))\n",
    "steps_per_epoch = 40\n",
    "validation_steps = 5\n",
    "\n",
    "\n",
    "print(\"steps_per_epoch:\", steps_per_epoch)\n",
    "print(\"validation_steps:\", validation_steps)"
   ]
  },
  {
   "cell_type": "code",
   "execution_count": 10,
   "metadata": {},
   "outputs": [
    {
     "name": "stdout",
     "output_type": "stream",
     "text": [
      "Epoch 1/50\n",
      "\u001b[1m40/40\u001b[0m \u001b[32m━━━━━━━━━━━━━━━━━━━━\u001b[0m\u001b[37m\u001b[0m \u001b[1m15s\u001b[0m 340ms/step - accuracy: 0.1071 - loss: 3.4986 - val_accuracy: 0.9875 - val_loss: 3.6080\n",
      "Epoch 2/50\n",
      "\u001b[1m40/40\u001b[0m \u001b[32m━━━━━━━━━━━━━━━━━━━━\u001b[0m\u001b[37m\u001b[0m \u001b[1m13s\u001b[0m 327ms/step - accuracy: 0.1683 - loss: 3.3268 - val_accuracy: 0.6500 - val_loss: 3.4760\n",
      "Epoch 3/50\n",
      "\u001b[1m40/40\u001b[0m \u001b[32m━━━━━━━━━━━━━━━━━━━━\u001b[0m\u001b[37m\u001b[0m \u001b[1m13s\u001b[0m 314ms/step - accuracy: 0.1670 - loss: 3.2299 - val_accuracy: 0.9937 - val_loss: 3.3124\n",
      "Epoch 4/50\n",
      "\u001b[1m40/40\u001b[0m \u001b[32m━━━━━━━━━━━━━━━━━━━━\u001b[0m\u001b[37m\u001b[0m \u001b[1m13s\u001b[0m 316ms/step - accuracy: 0.1860 - loss: 3.1494 - val_accuracy: 0.9812 - val_loss: 3.1781\n",
      "Epoch 5/50\n",
      "\u001b[1m40/40\u001b[0m \u001b[32m━━━━━━━━━━━━━━━━━━━━\u001b[0m\u001b[37m\u001b[0m \u001b[1m13s\u001b[0m 314ms/step - accuracy: 0.1520 - loss: 3.1487 - val_accuracy: 0.9250 - val_loss: 3.0763\n",
      "Epoch 6/50\n",
      "\u001b[1m40/40\u001b[0m \u001b[32m━━━━━━━━━━━━━━━━━━━━\u001b[0m\u001b[37m\u001b[0m \u001b[1m12s\u001b[0m 311ms/step - accuracy: 0.1664 - loss: 3.1412 - val_accuracy: 0.8938 - val_loss: 2.9636\n",
      "Epoch 7/50\n",
      "\u001b[1m40/40\u001b[0m \u001b[32m━━━━━━━━━━━━━━━━━━━━\u001b[0m\u001b[37m\u001b[0m \u001b[1m13s\u001b[0m 313ms/step - accuracy: 0.2082 - loss: 2.9907 - val_accuracy: 1.0000 - val_loss: 2.7438\n",
      "Epoch 8/50\n",
      "\u001b[1m40/40\u001b[0m \u001b[32m━━━━━━━━━━━━━━━━━━━━\u001b[0m\u001b[37m\u001b[0m \u001b[1m12s\u001b[0m 313ms/step - accuracy: 0.2002 - loss: 3.0025 - val_accuracy: 0.9438 - val_loss: 2.8396\n",
      "Epoch 9/50\n",
      "\u001b[1m40/40\u001b[0m \u001b[32m━━━━━━━━━━━━━━━━━━━━\u001b[0m\u001b[37m\u001b[0m \u001b[1m12s\u001b[0m 312ms/step - accuracy: 0.1789 - loss: 3.0099 - val_accuracy: 0.8500 - val_loss: 2.7594\n",
      "Epoch 10/50\n",
      "\u001b[1m40/40\u001b[0m \u001b[32m━━━━━━━━━━━━━━━━━━━━\u001b[0m\u001b[37m\u001b[0m \u001b[1m12s\u001b[0m 312ms/step - accuracy: 0.1729 - loss: 3.0528 - val_accuracy: 0.9438 - val_loss: 2.6516\n",
      "Epoch 11/50\n",
      "\u001b[1m40/40\u001b[0m \u001b[32m━━━━━━━━━━━━━━━━━━━━\u001b[0m\u001b[37m\u001b[0m \u001b[1m12s\u001b[0m 312ms/step - accuracy: 0.2083 - loss: 2.9456 - val_accuracy: 0.8188 - val_loss: 2.4583\n",
      "Epoch 12/50\n",
      "\u001b[1m40/40\u001b[0m \u001b[32m━━━━━━━━━━━━━━━━━━━━\u001b[0m\u001b[37m\u001b[0m \u001b[1m12s\u001b[0m 310ms/step - accuracy: 0.2237 - loss: 2.8905 - val_accuracy: 0.7812 - val_loss: 2.4619\n",
      "Epoch 13/50\n",
      "\u001b[1m40/40\u001b[0m \u001b[32m━━━━━━━━━━━━━━━━━━━━\u001b[0m\u001b[37m\u001b[0m \u001b[1m13s\u001b[0m 313ms/step - accuracy: 0.2309 - loss: 2.9562 - val_accuracy: 0.8625 - val_loss: 2.1199\n",
      "Epoch 14/50\n",
      "\u001b[1m40/40\u001b[0m \u001b[32m━━━━━━━━━━━━━━━━━━━━\u001b[0m\u001b[37m\u001b[0m \u001b[1m12s\u001b[0m 312ms/step - accuracy: 0.2079 - loss: 2.8944 - val_accuracy: 0.8313 - val_loss: 1.9489\n",
      "Epoch 15/50\n",
      "\u001b[1m40/40\u001b[0m \u001b[32m━━━━━━━━━━━━━━━━━━━━\u001b[0m\u001b[37m\u001b[0m \u001b[1m13s\u001b[0m 313ms/step - accuracy: 0.2138 - loss: 2.9313 - val_accuracy: 0.8188 - val_loss: 2.1525\n",
      "Epoch 16/50\n",
      "\u001b[1m40/40\u001b[0m \u001b[32m━━━━━━━━━━━━━━━━━━━━\u001b[0m\u001b[37m\u001b[0m \u001b[1m12s\u001b[0m 311ms/step - accuracy: 0.1973 - loss: 2.8956 - val_accuracy: 0.7000 - val_loss: 2.2750\n",
      "Epoch 17/50\n",
      "\u001b[1m40/40\u001b[0m \u001b[32m━━━━━━━━━━━━━━━━━━━━\u001b[0m\u001b[37m\u001b[0m \u001b[1m13s\u001b[0m 317ms/step - accuracy: 0.2198 - loss: 2.8425 - val_accuracy: 0.6812 - val_loss: 2.0901\n",
      "Epoch 18/50\n",
      "\u001b[1m40/40\u001b[0m \u001b[32m━━━━━━━━━━━━━━━━━━━━\u001b[0m\u001b[37m\u001b[0m \u001b[1m13s\u001b[0m 319ms/step - accuracy: 0.2109 - loss: 2.8489 - val_accuracy: 0.8000 - val_loss: 1.7761\n",
      "Epoch 19/50\n",
      "\u001b[1m40/40\u001b[0m \u001b[32m━━━━━━━━━━━━━━━━━━━━\u001b[0m\u001b[37m\u001b[0m \u001b[1m13s\u001b[0m 322ms/step - accuracy: 0.1865 - loss: 2.8758 - val_accuracy: 0.7250 - val_loss: 1.7161\n",
      "Epoch 20/50\n",
      "\u001b[1m40/40\u001b[0m \u001b[32m━━━━━━━━━━━━━━━━━━━━\u001b[0m\u001b[37m\u001b[0m \u001b[1m12s\u001b[0m 313ms/step - accuracy: 0.2142 - loss: 2.7952 - val_accuracy: 0.5312 - val_loss: 2.1545\n",
      "Epoch 21/50\n",
      "\u001b[1m40/40\u001b[0m \u001b[32m━━━━━━━━━━━━━━━━━━━━\u001b[0m\u001b[37m\u001b[0m \u001b[1m12s\u001b[0m 312ms/step - accuracy: 0.2309 - loss: 2.7510 - val_accuracy: 0.6000 - val_loss: 1.9333\n",
      "Epoch 22/50\n",
      "\u001b[1m40/40\u001b[0m \u001b[32m━━━━━━━━━━━━━━━━━━━━\u001b[0m\u001b[37m\u001b[0m \u001b[1m13s\u001b[0m 314ms/step - accuracy: 0.2228 - loss: 2.8011 - val_accuracy: 0.6812 - val_loss: 1.6757\n",
      "Epoch 23/50\n",
      "\u001b[1m40/40\u001b[0m \u001b[32m━━━━━━━━━━━━━━━━━━━━\u001b[0m\u001b[37m\u001b[0m \u001b[1m12s\u001b[0m 311ms/step - accuracy: 0.2653 - loss: 2.6849 - val_accuracy: 0.5938 - val_loss: 1.9293\n",
      "Epoch 24/50\n",
      "\u001b[1m40/40\u001b[0m \u001b[32m━━━━━━━━━━━━━━━━━━━━\u001b[0m\u001b[37m\u001b[0m \u001b[1m12s\u001b[0m 309ms/step - accuracy: 0.2095 - loss: 2.7876 - val_accuracy: 0.5813 - val_loss: 1.8455\n",
      "Epoch 25/50\n",
      "\u001b[1m40/40\u001b[0m \u001b[32m━━━━━━━━━━━━━━━━━━━━\u001b[0m\u001b[37m\u001b[0m \u001b[1m13s\u001b[0m 313ms/step - accuracy: 0.2309 - loss: 2.7115 - val_accuracy: 0.4187 - val_loss: 2.3740\n",
      "Epoch 26/50\n",
      "\u001b[1m40/40\u001b[0m \u001b[32m━━━━━━━━━━━━━━━━━━━━\u001b[0m\u001b[37m\u001b[0m \u001b[1m13s\u001b[0m 316ms/step - accuracy: 0.2437 - loss: 2.7513 - val_accuracy: 0.1625 - val_loss: 2.8587\n",
      "Epoch 27/50\n",
      "\u001b[1m40/40\u001b[0m \u001b[32m━━━━━━━━━━━━━━━━━━━━\u001b[0m\u001b[37m\u001b[0m \u001b[1m13s\u001b[0m 320ms/step - accuracy: 0.2290 - loss: 2.6985 - val_accuracy: 0.2937 - val_loss: 2.6908\n",
      "Epoch 28/50\n",
      "\u001b[1m40/40\u001b[0m \u001b[32m━━━━━━━━━━━━━━━━━━━━\u001b[0m\u001b[37m\u001b[0m \u001b[1m13s\u001b[0m 313ms/step - accuracy: 0.2436 - loss: 2.7542 - val_accuracy: 0.2438 - val_loss: 2.6867\n",
      "Epoch 29/50\n",
      "\u001b[1m40/40\u001b[0m \u001b[32m━━━━━━━━━━━━━━━━━━━━\u001b[0m\u001b[37m\u001b[0m \u001b[1m12s\u001b[0m 312ms/step - accuracy: 0.2448 - loss: 2.7349 - val_accuracy: 0.0812 - val_loss: 3.1592\n",
      "Epoch 30/50\n",
      "\u001b[1m34/40\u001b[0m \u001b[32m━━━━━━━━━━━━━━━━━\u001b[0m\u001b[37m━━━\u001b[0m \u001b[1m1s\u001b[0m 299ms/step - accuracy: 0.2332 - loss: 2.7156Error loading image wikiart/Baroque/rembrandt_woman-standing-with-raised-hands.jpg: [Errno 2] No such file or directory: 'wikiart/Baroque/rembrandt_woman-standing-with-raised-hands.jpg'\n",
      "\u001b[1m40/40\u001b[0m \u001b[32m━━━━━━━━━━━━━━━━━━━━\u001b[0m\u001b[37m\u001b[0m \u001b[1m13s\u001b[0m 315ms/step - accuracy: 0.2319 - loss: 2.7143 - val_accuracy: 0.2875 - val_loss: 2.6066\n",
      "Epoch 31/50\n",
      "\u001b[1m40/40\u001b[0m \u001b[32m━━━━━━━━━━━━━━━━━━━━\u001b[0m\u001b[37m\u001b[0m \u001b[1m13s\u001b[0m 322ms/step - accuracy: 0.2111 - loss: 2.7328 - val_accuracy: 0.2250 - val_loss: 2.7542\n",
      "Epoch 32/50\n",
      "\u001b[1m40/40\u001b[0m \u001b[32m━━━━━━━━━━━━━━━━━━━━\u001b[0m\u001b[37m\u001b[0m \u001b[1m13s\u001b[0m 322ms/step - accuracy: 0.2205 - loss: 2.7316 - val_accuracy: 0.2375 - val_loss: 2.7914\n",
      "Epoch 33/50\n",
      "\u001b[1m40/40\u001b[0m \u001b[32m━━━━━━━━━━━━━━━━━━━━\u001b[0m\u001b[37m\u001b[0m \u001b[1m13s\u001b[0m 316ms/step - accuracy: 0.2319 - loss: 2.7073 - val_accuracy: 0.4375 - val_loss: 2.1843\n",
      "Epoch 34/50\n",
      "\u001b[1m40/40\u001b[0m \u001b[32m━━━━━━━━━━━━━━━━━━━━\u001b[0m\u001b[37m\u001b[0m \u001b[1m13s\u001b[0m 317ms/step - accuracy: 0.2270 - loss: 2.6886 - val_accuracy: 0.6562 - val_loss: 1.4891\n",
      "Epoch 35/50\n",
      "\u001b[1m40/40\u001b[0m \u001b[32m━━━━━━━━━━━━━━━━━━━━\u001b[0m\u001b[37m\u001b[0m \u001b[1m13s\u001b[0m 315ms/step - accuracy: 0.2582 - loss: 2.5908 - val_accuracy: 0.3625 - val_loss: 1.9391\n",
      "Epoch 36/50\n",
      "\u001b[1m 1/40\u001b[0m \u001b[37m━━━━━━━━━━━━━━━━━━━━\u001b[0m \u001b[1m12s\u001b[0m 308ms/step - accuracy: 0.1562 - loss: 2.8549Error loading image wikiart/Post_Impressionism/vincent-van-gogh_l-arlesienne-portrait-of-madame-ginoux-1890.jpg: [Errno 2] No such file or directory: 'wikiart/Post_Impressionism/vincent-van-gogh_l-arlesienne-portrait-of-madame-ginoux-1890.jpg'\n",
      "\u001b[1m40/40\u001b[0m \u001b[32m━━━━━━━━━━━━━━━━━━━━\u001b[0m\u001b[37m\u001b[0m \u001b[1m13s\u001b[0m 316ms/step - accuracy: 0.2201 - loss: 2.7152 - val_accuracy: 0.4062 - val_loss: 2.2038\n",
      "Epoch 37/50\n",
      "\u001b[1m40/40\u001b[0m \u001b[32m━━━━━━━━━━━━━━━━━━━━\u001b[0m\u001b[37m\u001b[0m \u001b[1m13s\u001b[0m 318ms/step - accuracy: 0.2350 - loss: 2.5825 - val_accuracy: 0.4313 - val_loss: 1.9234\n",
      "Epoch 38/50\n",
      "\u001b[1m40/40\u001b[0m \u001b[32m━━━━━━━━━━━━━━━━━━━━\u001b[0m\u001b[37m\u001b[0m \u001b[1m13s\u001b[0m 322ms/step - accuracy: 0.2550 - loss: 2.6004 - val_accuracy: 0.5000 - val_loss: 1.7154\n",
      "Epoch 39/50\n",
      "\u001b[1m40/40\u001b[0m \u001b[32m━━━━━━━━━━━━━━━━━━━━\u001b[0m\u001b[37m\u001b[0m \u001b[1m13s\u001b[0m 320ms/step - accuracy: 0.2345 - loss: 2.6303 - val_accuracy: 0.4250 - val_loss: 1.9194\n",
      "Epoch 40/50\n",
      "\u001b[1m40/40\u001b[0m \u001b[32m━━━━━━━━━━━━━━━━━━━━\u001b[0m\u001b[37m\u001b[0m \u001b[1m13s\u001b[0m 322ms/step - accuracy: 0.2321 - loss: 2.6230 - val_accuracy: 0.5312 - val_loss: 1.6820\n",
      "Epoch 41/50\n",
      "\u001b[1m40/40\u001b[0m \u001b[32m━━━━━━━━━━━━━━━━━━━━\u001b[0m\u001b[37m\u001b[0m \u001b[1m13s\u001b[0m 315ms/step - accuracy: 0.2389 - loss: 2.6122 - val_accuracy: 0.2937 - val_loss: 2.2525\n",
      "Epoch 42/50\n",
      "\u001b[1m40/40\u001b[0m \u001b[32m━━━━━━━━━━━━━━━━━━━━\u001b[0m\u001b[37m\u001b[0m \u001b[1m13s\u001b[0m 322ms/step - accuracy: 0.2409 - loss: 2.6291 - val_accuracy: 0.6000 - val_loss: 1.6528\n",
      "Epoch 43/50\n",
      "\u001b[1m40/40\u001b[0m \u001b[32m━━━━━━━━━━━━━━━━━━━━\u001b[0m\u001b[37m\u001b[0m \u001b[1m13s\u001b[0m 325ms/step - accuracy: 0.2572 - loss: 2.5156 - val_accuracy: 0.3812 - val_loss: 1.8364\n",
      "Epoch 44/50\n",
      "\u001b[1m40/40\u001b[0m \u001b[32m━━━━━━━━━━━━━━━━━━━━\u001b[0m\u001b[37m\u001b[0m \u001b[1m13s\u001b[0m 323ms/step - accuracy: 0.2487 - loss: 2.5361 - val_accuracy: 0.3125 - val_loss: 2.0904\n",
      "Epoch 45/50\n",
      "\u001b[1m22/40\u001b[0m \u001b[32m━━━━━━━━━━━\u001b[0m\u001b[37m━━━━━━━━━\u001b[0m \u001b[1m5s\u001b[0m 305ms/step - accuracy: 0.2570 - loss: 2.4604"
     ]
    },
    {
     "name": "stderr",
     "output_type": "stream",
     "text": [
      "2025-03-09 03:04:16.787656: W tensorflow/core/framework/local_rendezvous.cc:404] Local rendezvous is aborting with status: OUT_OF_RANGE: End of sequence\n",
      "\t [[{{node IteratorGetNext}}]]\n",
      "2025-03-09 03:04:16.787683: W tensorflow/core/framework/local_rendezvous.cc:404] Local rendezvous is aborting with status: OUT_OF_RANGE: End of sequence\n",
      "\t [[{{node IteratorGetNext}}]]\n",
      "\t [[StatefulPartitionedCall/adam/add_30/_74]]\n",
      "/Library/Frameworks/Python.framework/Versions/3.12/lib/python3.12/contextlib.py:158: UserWarning: Your input ran out of data; interrupting training. Make sure that your dataset or generator can generate at least `steps_per_epoch * epochs` batches. You may need to use the `.repeat()` function when building your dataset.\n",
      "  self.gen.throw(value)\n"
     ]
    },
    {
     "name": "stdout",
     "output_type": "stream",
     "text": [
      "\u001b[1m40/40\u001b[0m \u001b[32m━━━━━━━━━━━━━━━━━━━━\u001b[0m\u001b[37m\u001b[0m \u001b[1m7s\u001b[0m 177ms/step - accuracy: 0.2577 - loss: 2.4168 - val_accuracy: 0.6687 - val_loss: 1.4807\n",
      "Epoch 46/50\n"
     ]
    },
    {
     "name": "stderr",
     "output_type": "stream",
     "text": [
      "2025-03-09 03:04:17.269104: W tensorflow/core/framework/local_rendezvous.cc:404] Local rendezvous is aborting with status: OUT_OF_RANGE: End of sequence\n",
      "\t [[{{node IteratorGetNext}}]]\n",
      "2025-03-09 03:04:17.269121: W tensorflow/core/framework/local_rendezvous.cc:404] Local rendezvous is aborting with status: OUT_OF_RANGE: End of sequence\n",
      "\t [[{{node IteratorGetNext}}]]\n",
      "\t [[StatefulPartitionedCall/gradient_tape/sequential_1/conv_lstm2d_1/while/sequential_1/conv_lstm2d_1/while_grad/body/_245/gradient_tape/sequential_1/conv_lstm2d_1/while/gradients/sequential_1/conv_lstm2d_1/while/conv_lstm_cell_1/mul_1_grad/Shape/_322]]\n"
     ]
    },
    {
     "name": "stdout",
     "output_type": "stream",
     "text": [
      "\u001b[1m40/40\u001b[0m \u001b[32m━━━━━━━━━━━━━━━━━━━━\u001b[0m\u001b[37m\u001b[0m \u001b[1m0s\u001b[0m 12ms/step - accuracy: 0.0000e+00 - loss: 0.0000e+00 - val_accuracy: 0.6187 - val_loss: 1.5155\n",
      "Epoch 47/50\n"
     ]
    },
    {
     "name": "stderr",
     "output_type": "stream",
     "text": [
      "2025-03-09 03:04:17.764919: W tensorflow/core/framework/local_rendezvous.cc:404] Local rendezvous is aborting with status: OUT_OF_RANGE: End of sequence\n",
      "\t [[{{node IteratorGetNext}}]]\n",
      "2025-03-09 03:04:17.764963: W tensorflow/core/framework/local_rendezvous.cc:404] Local rendezvous is aborting with status: OUT_OF_RANGE: End of sequence\n",
      "\t [[{{node IteratorGetNext}}]]\n",
      "\t [[Func/StatefulPartitionedCall/sequential_1/conv_lstm2d_1/while/body/_67/input/_472/_131]]\n"
     ]
    },
    {
     "name": "stdout",
     "output_type": "stream",
     "text": [
      "\u001b[1m40/40\u001b[0m \u001b[32m━━━━━━━━━━━━━━━━━━━━\u001b[0m\u001b[37m\u001b[0m \u001b[1m1s\u001b[0m 14ms/step - accuracy: 0.0000e+00 - loss: 0.0000e+00 - val_accuracy: 0.6812 - val_loss: 1.4157\n",
      "Epoch 48/50\n"
     ]
    },
    {
     "name": "stderr",
     "output_type": "stream",
     "text": [
      "2025-03-09 03:04:18.339717: W tensorflow/core/framework/local_rendezvous.cc:404] Local rendezvous is aborting with status: OUT_OF_RANGE: End of sequence\n",
      "\t [[{{node IteratorGetNext}}]]\n",
      "2025-03-09 03:04:18.339754: W tensorflow/core/framework/local_rendezvous.cc:404] Local rendezvous is aborting with status: OUT_OF_RANGE: End of sequence\n",
      "\t [[{{node IteratorGetNext}}]]\n",
      "\t [[IteratorGetNext/_66]]\n"
     ]
    },
    {
     "name": "stdout",
     "output_type": "stream",
     "text": [
      "\u001b[1m40/40\u001b[0m \u001b[32m━━━━━━━━━━━━━━━━━━━━\u001b[0m\u001b[37m\u001b[0m \u001b[1m1s\u001b[0m 23ms/step - accuracy: 0.0000e+00 - loss: 0.0000e+00 - val_accuracy: 0.5813 - val_loss: 1.5220\n",
      "Epoch 49/50\n"
     ]
    },
    {
     "name": "stderr",
     "output_type": "stream",
     "text": [
      "2025-03-09 03:04:19.242130: W tensorflow/core/framework/local_rendezvous.cc:404] Local rendezvous is aborting with status: OUT_OF_RANGE: End of sequence\n",
      "\t [[{{node IteratorGetNext}}]]\n",
      "2025-03-09 03:04:19.242145: W tensorflow/core/framework/local_rendezvous.cc:404] Local rendezvous is aborting with status: OUT_OF_RANGE: End of sequence\n",
      "\t [[{{node IteratorGetNext}}]]\n",
      "\t [[StatefulPartitionedCall/gradient_tape/sequential_1/conv_lstm2d_1/while/sequential_1/conv_lstm2d_1/while_grad/body/_245/gradient_tape/sequential_1/conv_lstm2d_1/while/gradients/sequential_1/conv_lstm2d_1/while/conv_lstm_cell_1/mul_1_grad/Shape/_322]]\n"
     ]
    },
    {
     "name": "stdout",
     "output_type": "stream",
     "text": [
      "\u001b[1m40/40\u001b[0m \u001b[32m━━━━━━━━━━━━━━━━━━━━\u001b[0m\u001b[37m\u001b[0m \u001b[1m1s\u001b[0m 25ms/step - accuracy: 0.0000e+00 - loss: 0.0000e+00 - val_accuracy: 0.5938 - val_loss: 1.4938\n",
      "Epoch 50/50\n"
     ]
    },
    {
     "name": "stderr",
     "output_type": "stream",
     "text": [
      "2025-03-09 03:04:20.250695: W tensorflow/core/framework/local_rendezvous.cc:404] Local rendezvous is aborting with status: OUT_OF_RANGE: End of sequence\n",
      "\t [[{{node IteratorGetNext}}]]\n",
      "2025-03-09 03:04:20.250709: W tensorflow/core/framework/local_rendezvous.cc:404] Local rendezvous is aborting with status: OUT_OF_RANGE: End of sequence\n",
      "\t [[{{node IteratorGetNext}}]]\n",
      "\t [[StatefulPartitionedCall/gradient_tape/sequential_1/conv_lstm2d_1/while/sequential_1/conv_lstm2d_1/while_grad/body/_245/gradient_tape/sequential_1/conv_lstm2d_1/while/gradients/sequential_1/conv_lstm2d_1/while/conv_lstm_cell_1/mul_1_grad/Shape/_322]]\n"
     ]
    },
    {
     "name": "stdout",
     "output_type": "stream",
     "text": [
      "\u001b[1m40/40\u001b[0m \u001b[32m━━━━━━━━━━━━━━━━━━━━\u001b[0m\u001b[37m\u001b[0m \u001b[1m1s\u001b[0m 19ms/step - accuracy: 0.0000e+00 - loss: 0.0000e+00 - val_accuracy: 0.6812 - val_loss: 1.4287\n"
     ]
    }
   ],
   "source": [
    "# 训练模型\n",
    "history = model.fit(\n",
    "    train_gen,\n",
    "    epochs=50,\n",
    "    validation_data=val_gen,\n",
    "    steps_per_epoch=steps_per_epoch,\n",
    "    validation_steps=validation_steps\n",
    ")"
   ]
  },
  {
   "cell_type": "code",
   "execution_count": 11,
   "metadata": {},
   "outputs": [
    {
     "name": "stdout",
     "output_type": "stream",
     "text": [
      "\u001b[1m5/5\u001b[0m \u001b[32m━━━━━━━━━━━━━━━━━━━━\u001b[0m\u001b[37m\u001b[0m \u001b[1m1s\u001b[0m 168ms/step - accuracy: 0.6819 - loss: 1.4270\n",
      "验证集损失: 1.4702863693237305, 验证集准确率: 0.6499999761581421\n"
     ]
    }
   ],
   "source": [
    "test_loss, test_accuracy = model.evaluate(val_gen, steps=validation_steps)\n",
    "print(f'验证集损失: {test_loss}, 验证集准确率: {test_accuracy}')\n"
   ]
  },
  {
   "cell_type": "code",
   "execution_count": 12,
   "metadata": {},
   "outputs": [
    {
     "name": "stdout",
     "output_type": "stream",
     "text": [
      "\u001b[1m5/5\u001b[0m \u001b[32m━━━━━━━━━━━━━━━━━━━━\u001b[0m\u001b[37m\u001b[0m \u001b[1m1s\u001b[0m 147ms/step\n"
     ]
    }
   ],
   "source": [
    "# 获取预测结果\n",
    "y_pred = model.predict(val_gen, steps=validation_steps)  # 设置steps确保生成器不会提前结束\n",
    "\n",
    "# 将预测结果转换为类别标签\n",
    "y_pred_classes = np.argmax(y_pred, axis=1)\n",
    "\n",
    "# 获取真实标签\n",
    "y_true = []\n",
    "\n",
    "# 遍历验证集生成器，提取标签\n",
    "for _, labels in add_time_step_dimension(val_gen):\n",
    "    # 由于 labels 经过时间步维度的扩展，取第一个维度（时间步）然后求最大值获取类别标签\n",
    "    y_true.extend(np.argmax(labels, axis=1))\n",
    "\n",
    "# 将真实标签转换为 NumPy 数组\n",
    "y_true = np.array(y_true)"
   ]
  },
  {
   "cell_type": "code",
   "execution_count": 23,
   "metadata": {},
   "outputs": [
    {
     "name": "stdout",
     "output_type": "stream",
     "text": [
      "y_true: []\n",
      "y_pred: []\n"
     ]
    }
   ],
   "source": [
    "# 获取类别名称\n",
    "if hasattr(val_gen, 'class_indices'):\n",
    "    class_names = list(val_gen.class_indices.keys())\n",
    "else:\n",
    "    # 如果val_gen不是自定义生成器，手动指定类别名称\n",
    "    class_names = [\"0\",\"1\",\"2\",\"3\",\"4\",\"5\",\"6\",\"7\",\"8\",\"9\",\"10\",\n",
    "                \"11\",\"12\",\"13\",\"14\",\"15\",\"16\",\"17\",\"18\",\"19\",\"20\",\n",
    "                \"21\",\"22\",\"23\",\"24\",\"25\",\"26\",\"27\",\"28\",\"29\",\"30\",\n",
    "                0,1,2,3,4,5,6,7,8,9,10,11,12,13,14,15,16,17,18,19,20,21,\n",
    "                22,23,24,25,26,27,28,29,30]  \n",
    "\n",
    "# 获取预测结果\n",
    "# y_pred = []\n",
    "# y_true = []\n",
    "\n",
    "# 确保生成器正确输出数据\n",
    "for batch_images, batch_labels in val_gen:\n",
    "    # 获取真实标签\n",
    "    y_true.extend(np.argmax(batch_labels, axis=1))\n",
    "    \n",
    "    # 获取预测结果\n",
    "    batch_predictions = model.predict(batch_images)\n",
    "    y_pred_classes = np.argmax(batch_predictions, axis=-1)\n",
    "    \n",
    "    y_pred.extend(y_pred_classes)\n",
    "\n",
    "    # 打印每批次的数据，以便调试\n",
    "    print(f\"真实标签: {y_true[-len(batch_labels):]}\")\n",
    "    print(f\"预测标签: {y_pred[-len(batch_labels):]}\")\n",
    "\n",
    "# 最终输出真实标签和预测标签\n",
    "print(f\"y_true: {y_true}\")\n",
    "print(f\"y_pred: {y_pred}\")\n"
   ]
  },
  {
   "cell_type": "code",
   "execution_count": 26,
   "metadata": {},
   "outputs": [],
   "source": [
    "# 3. 计算并打印分类报告\n",
    "# print(classification_report(y_true, y_pred, target_names=class_names))"
   ]
  },
  {
   "cell_type": "code",
   "execution_count": 27,
   "metadata": {},
   "outputs": [
    {
     "name": "stdout",
     "output_type": "stream",
     "text": [
      "混淆矩阵:\n",
      "[]\n"
     ]
    }
   ],
   "source": [
    "# 计算混淆矩阵\n",
    "cm = confusion_matrix(y_true, y_pred)\n",
    "\n",
    "# 打印混淆矩阵\n",
    "print(\"混淆矩阵:\")\n",
    "print(cm)"
   ]
  },
  {
   "cell_type": "code",
   "execution_count": 28,
   "metadata": {},
   "outputs": [
    {
     "data": {
      "image/png": "[encoded data removed]",
      "text/plain": [
       "<Figure size 640x480 with 1 Axes>"
      ]
     },
     "metadata": {},
     "output_type": "display_data"
    },
    {
     "data": {
      "image/png": "[encoded data removed]",
      "text/plain": [
       "<Figure size 640x480 with 1 Axes>"
      ]
     },
     "metadata": {},
     "output_type": "display_data"
    }
   ],
   "source": [
    "# 绘制准确率曲线\n",
    "plt.plot(history.history['accuracy'], label='Training Accuracy')\n",
    "plt.plot(history.history['val_accuracy'], label='Validation Accuracy')\n",
    "plt.title('Model Accuracy')\n",
    "plt.xlabel('Epochs')\n",
    "plt.ylabel('Accuracy')\n",
    "plt.legend()\n",
    "plt.show()\n",
    "\n",
    "# 绘制损失曲线\n",
    "plt.plot(history.history['loss'], label='Training Loss')\n",
    "plt.plot(history.history['val_loss'], label='Validation Loss')\n",
    "plt.title('Model Loss')\n",
    "plt.xlabel('Epochs')\n",
    "plt.ylabel('Loss')\n",
    "plt.legend()\n",
    "plt.show()\n"
   ]
  },
  {
   "cell_type": "code",
   "execution_count": 29,
   "metadata": {},
   "outputs": [],
   "source": [
    "class_indices = {v: k for k, v in enumerate(style_val_data['class_index'].unique())}\n",
    "class_names = list(class_indices.keys())"
   ]
  },
  {
   "cell_type": "code",
   "execution_count": 30,
   "metadata": {},
   "outputs": [],
   "source": [
    "# 计算哪些图像被错误分类\n",
    "incorrect_idx = [i for i in range(len(y_true)) if y_true[i] != y_pred[i]]\n",
    "\n",
    "# 获取类别名称\n",
    "if isinstance(val_gen, ImageLabelGenerator):\n",
    "    class_names = list(val_gen.class_indices.keys())\n",
    "else:\n",
    "    # 手动指定类别名称\n",
    "    class_names = ['Style', 'Artist', 'Genre'] \n",
    "\n",
    "# 查看前 5 个错误分类的图像\n",
    "for idx in incorrect_idx[:5]:\n",
    "    img_path = os.path.join(data_dir, style_val_data.iloc[idx]['image_path'])\n",
    "    img = load_img(img_path, target_size=img_size)\n",
    "    plt.imshow(img)\n",
    "    true_label = class_names[y_true[idx]]\n",
    "    predicted_label = class_names[y_pred[idx]]\n",
    "    plt.title(f\"True: {true_label}, Predicted: {predicted_label}\")\n",
    "    plt.axis('off')\n",
    "    plt.show()\n",
    "    plt.pause(0.1)  # 让显示过程有一个小的延迟，确保图像渲染\n"
   ]
  },
  {
   "cell_type": "code",
   "execution_count": 19,
   "metadata": {},
   "outputs": [],
   "source": [
    "# 训练集生成器和验证集生成器分别是 train_gen 和 val_gen\n",
    "# 特征提取器：从模型中提取中间层（这里是 'conv2d_2' 层）的特征\n",
    "# feature_extractor = Model(inputs=model.input, outputs=model.get_layer('conv2d_2').output)\n",
    "\n",
    "# # 获取训练集和验证集的特征\n",
    "# train_features = feature_extractor.predict(train_gen, batch_size=batch_size)\n",
    "# val_features = feature_extractor.predict(val_gen, batch_size=batch_size)\n",
    "\n",
    "# # 展平特征并进行归一化\n",
    "# train_features = normalize(train_features.reshape(train_features.shape[0], -1))\n",
    "# val_features = normalize(val_features.reshape(val_features.shape[0], -1))\n",
    "\n",
    "# # 将训练集和验证集的特征合并\n",
    "# features = np.vstack([train_features, val_features])\n",
    "\n",
    "# # 获取标签\n",
    "# y_true = np.concatenate([batch_labels for _, batch_labels in train_gen])  # 从 train_gen 获取真实标签\n",
    "# y_pred_classes = np.concatenate([np.argmax(model.predict(batch_images), axis=-1) for batch_images, _ in train_gen])  # 获取模型预测的标签\n",
    "\n",
    "# labels = np.concatenate([y_true, y_pred_classes])\n",
    "\n",
    "# # PCA 降维\n",
    "# pca = PCA(n_components=2)\n",
    "# reduced_features = pca.fit_transform(features)\n",
    "\n",
    "# # 绘制PCA降维结果\n",
    "# plt.scatter(reduced_features[:, 0], reduced_features[:, 1], c=labels, cmap='jet', alpha=0.5)\n",
    "# plt.colorbar()\n",
    "# plt.title('PCA visualization of features')\n",
    "# plt.show()\n",
    "\n",
    "# # t-SNE 降维\n",
    "# tsne = TSNE(n_components=2)\n",
    "# reduced_tsne_features = tsne.fit_transform(features)\n",
    "\n",
    "# # 绘制t-SNE降维结果\n",
    "# plt.scatter(reduced_tsne_features[:, 0], reduced_tsne_features[:, 1], c=labels, cmap='jet', alpha=0.5)\n",
    "# plt.colorbar()\n",
    "# plt.title('t-SNE visualization of features')\n",
    "# plt.show()\n"
   ]
  },
  {
   "cell_type": "code",
   "execution_count": 20,
   "metadata": {},
   "outputs": [],
   "source": [
    "# # 进行一次预测以确保模型的输入已被初始化\n",
    "# _ = model.predict(train_gen, batch_size=batch_size)\n",
    "\n",
    "# # 确保层名称正确\n",
    "# print(\"Model Layers:\")\n",
    "# for layer in model.layers:\n",
    "#     print(layer.name)\n",
    "\n",
    "# # 提取中间层的特征\n",
    "# feature_extractor = Model(inputs=model.input, outputs=model.get_layer('conv2d_3').output)\n",
    "\n",
    "# 提取训练集和验证集的特征\n",
    "# train_features = feature_extractor.predict(train_gen, batch_size=batch_size)\n",
    "# val_features = feature_extractor.predict(val_gen, batch_size=batch_size)\n",
    "\n",
    "# # 标准化特征\n",
    "# train_features = normalize(train_features.reshape(train_features.shape[0], -1))  # 扁平化并标准化\n",
    "# val_features = normalize(val_features.reshape(val_features.shape[0], -1))\n",
    "\n",
    "# # 存储文件名以便后续可视化\n",
    "# train_filenames = train_gen.filenames\n",
    "# val_filenames = val_gen.filenames\n",
    "\n",
    "# def pictures(test_idx):\n",
    "#     test_feature = val_features[test_idx].reshape(1, -1)\n",
    "#     my_distance = cdist(test_feature, train_features, metric='euclidean')[0]\n",
    "#     nearest_neighbors_idx = np.argpartition(my_distance, 5)[:5]\n",
    "    \n",
    "#     plt.figure(figsize=(8, 8))     \n",
    "#     plt.subplot(2, 3, 1)\n",
    "#     img = plt.imread(os.path.join(data_dir, style_val_data.iloc[test_idx]['image_path']))\n",
    "#     plt.imshow(img)\n",
    "#     plt.title(f\"Test Image: {style_val_data.iloc[test_idx]['image_path']}\")\n",
    "#     plt.axis('off')\n",
    "    \n",
    "#     for p in range(len(nearest_neighbors_idx)):\n",
    "#         plt.subplot(2, 3, p + 2)\n",
    "#         neighbor_image = plt.imread(os.path.join(data_dir, style_val_data.iloc[nearest_neighbors_idx[p]]['image_path']))\n",
    "#         plt.imshow(neighbor_image)\n",
    "#         plt.title(f\"Neighbor {p+1}\")\n",
    "#         plt.axis('off')\n",
    "    \n",
    "#     plt.show()\n"
   ]
  },
  {
   "cell_type": "code",
   "execution_count": 21,
   "metadata": {},
   "outputs": [],
   "source": [
    "# # 保存模型\n",
    "# model.save('WikiArt_CNN_LSTM.h5')\n",
    "\n",
    "# # 加载模型\n",
    "# from tensorflow.keras.models import load_model\n",
    "# model = load_model('WikiArt_CNN_LSTM.h5')\n"
   ]
  }
 ],
 "metadata": {
  "kernelspec": {
   "display_name": "Python 3",
   "language": "python",
   "name": "python3"
  },
  "language_info": {
   "codemirror_mode": {
    "name": "ipython",
    "version": 3
   },
   "file_extension": ".py",
   "mimetype": "text/x-python",
   "name": "python",
   "nbconvert_exporter": "python",
   "pygments_lexer": "ipython3",
   "version": "3.12.2"
  }
 },
 "nbformat": 4,
 "nbformat_minor": 2
}
