{
 "cells": [
  {
   "cell_type": "code",
   "execution_count": 1,
   "metadata": {},
   "outputs": [],
   "source": [
    "import os\n",
    "import cv2\n",
    "import torch\n",
    "import numpy as np\n",
    "import mediapipe as mp\n",
    "from tensorflow.keras.preprocessing.image import load_img, img_to_array\n",
    "from torchvision import models, transforms\n",
    "from scipy.spatial.distance import cosine\n",
    "from sklearn.decomposition import PCA\n"
   ]
  },
  {
   "cell_type": "code",
   "execution_count": 2,
   "metadata": {},
   "outputs": [],
   "source": [
    "# 设置路径和参数\n",
    "train_dir = 'ImgNationalGalleryOfArt'\n",
    "image_size = (64, 64)\n",
    "batch_size = 32"
   ]
  },
  {
   "cell_type": "code",
   "execution_count": 3,
   "metadata": {},
   "outputs": [],
   "source": [
    "# 1. 载入数据\n",
    "def load_images(train_dir, image_size=(64, 64)):\n",
    "    image_paths = [os.path.join(train_dir, f) for f in os.listdir(train_dir) if f.endswith('.jpg')]\n",
    "    images = []\n",
    "    for path in image_paths:\n",
    "        img = load_img(path, target_size=image_size)\n",
    "        img = img_to_array(img) / 255.0  # 归一化\n",
    "        images.append(img)\n",
    "    return np.array(images), image_paths\n"
   ]
  },
  {
   "cell_type": "code",
   "execution_count": 4,
   "metadata": {},
   "outputs": [],
   "source": [
    "# 2. 目标检测（YOLOv5 检测人物）\n",
    "def detect_person(image):\n",
    "    model = torch.hub.load('ultralytics/yolov5', 'yolov5s')\n",
    "    results = model(image)\n",
    "    results.render()\n",
    "    return results"
   ]
  },
  {
   "cell_type": "code",
   "execution_count": 5,
   "metadata": {},
   "outputs": [],
   "source": [
    "# 3. 姿态估计（Mediapipe）\n",
    "def extract_pose(image):\n",
    "    mp_pose = mp.solutions.pose\n",
    "    pose = mp_pose.Pose()\n",
    "    img_rgb = cv2.cvtColor(image, cv2.COLOR_BGR2RGB)\n",
    "    results = pose.process(img_rgb)\n",
    "    if results.pose_landmarks:\n",
    "        return np.array([[lm.x, lm.y] for lm in results.pose_landmarks.landmark])\n",
    "    return None\n"
   ]
  },
  {
   "cell_type": "code",
   "execution_count": 6,
   "metadata": {},
   "outputs": [],
   "source": [
    "# 4. CNN 特征提取（ResNet50）\n",
    "def extract_features(image):\n",
    "    preprocess = transforms.Compose([\n",
    "        transforms.ToPILImage(),\n",
    "        transforms.Resize((224, 224)),\n",
    "        transforms.ToTensor(),\n",
    "        transforms.Normalize(mean=[0.485, 0.456, 0.406], std=[0.229, 0.224, 0.225]),\n",
    "    ])\n",
    "    img_resized = preprocess(image).unsqueeze(0)  \n",
    "    resnet_model = models.resnet50(pretrained=True)\n",
    "    resnet_model.eval()\n",
    "    with torch.no_grad():\n",
    "        features = resnet_model(img_resized)\n",
    "    return features.numpy().flatten()\n"
   ]
  },
  {
   "cell_type": "code",
   "execution_count": 7,
   "metadata": {},
   "outputs": [],
   "source": [
    "# 5. 计算相似度（Cosine Similarity）\n",
    "def compute_similarity(features1, features2):\n",
    "    return 1 - cosine(features1, features2)\n"
   ]
  },
  {
   "cell_type": "code",
   "execution_count": 8,
   "metadata": {},
   "outputs": [
    {
     "name": "stderr",
     "output_type": "stream",
     "text": [
      "/Library/Frameworks/Python.framework/Versions/3.12/lib/python3.12/site-packages/torchvision/models/_utils.py:208: UserWarning: The parameter 'pretrained' is deprecated since 0.13 and may be removed in the future, please use 'weights' instead.\n",
      "  warnings.warn(\n",
      "/Library/Frameworks/Python.framework/Versions/3.12/lib/python3.12/site-packages/torchvision/models/_utils.py:223: UserWarning: Arguments other than a weight enum or `None` for 'weights' are deprecated since 0.13 and may be removed in the future. The current behavior is equivalent to passing `weights=ResNet50_Weights.IMAGENET1K_V1`. You can also use `weights=ResNet50_Weights.DEFAULT` to get the most up-to-date weights.\n",
      "  warnings.warn(msg)\n"
     ]
    },
    {
     "name": "stdout",
     "output_type": "stream",
     "text": [
      "Cosine Similarity: 0.7652250671273935\n"
     ]
    }
   ],
   "source": [
    "# 示例\n",
    "train_dir = 'ImgNationalGalleryOfArt'\n",
    "images, paths = load_images(train_dir)\n",
    "\n",
    "# 取两张图进行比较\n",
    "image1 = cv2.imread(paths[0])\n",
    "image2 = cv2.imread(paths[1])\n",
    "\n",
    "# 提取特征\n",
    "feat1 = extract_features(image1)\n",
    "feat2 = extract_features(image2)\n",
    "\n",
    "# 计算相似度\n",
    "similarity = compute_similarity(feat1, feat2)\n",
    "print(f\"Cosine Similarity: {similarity}\")"
   ]
  },
  {
   "cell_type": "code",
   "execution_count": 10,
   "metadata": {},
   "outputs": [],
   "source": [
    "# # 设置路径和参数\n",
    "# train_dir = 'ImgNationalGalleryOfArt'\n",
    "# image_size = (64, 64)\n",
    "# batch_size = 32\n",
    "\n",
    "# # 获取所有图片路径\n",
    "# image_paths = [os.path.join(train_dir, fname) for fname in os.listdir(train_dir) if fname.endswith('.jpg')]\n",
    "\n",
    "# # 手动加载图片并转成数组\n",
    "# images = []\n",
    "# for path in image_paths:\n",
    "#     img = load_img(path, target_size=image_size)  # 调整图片大小\n",
    "#     img = img_to_array(img) / 255.0  # 转为数组并归一化\n",
    "#     images.append(img)\n",
    "\n",
    "# # 转换为 NumPy 数组\n",
    "# images = np.array(images)\n",
    "\n",
    "# # 使用 flow 方法创建生成器\n",
    "# datagen = ImageDataGenerator(\n",
    "#     rotation_range=30, # 随机旋转\n",
    "#     width_shift_range=0.2, # 水平平移\n",
    "#     height_shift_range=0.2, # 垂直平移\n",
    "#     shear_range=0.2, # 随机错切变换\n",
    "#     zoom_range=0.2, # 随机缩放\n",
    "#     horizontal_flip=True # 随机水平翻转\n",
    "# )\n",
    "\n",
    "# train_generator = datagen.flow(\n",
    "#     images, # 数据集路径\n",
    "#     batch_size=batch_size,  # 批量大小\n",
    "#     shuffle=True, # 是否打乱数据，通常无监督学习需要打乱\n",
    "#     #class_mode=None        # 无监督学习不需要标签\n",
    "# )\n",
    "\n",
    "# print(f'已加载图片数量: {len(images)}')\n"
   ]
  },
  {
   "cell_type": "markdown",
   "metadata": {},
   "source": []
  }
 ],
 "metadata": {
  "kernelspec": {
   "display_name": "Python 3",
   "language": "python",
   "name": "python3"
  },
  "language_info": {
   "codemirror_mode": {
    "name": "ipython",
    "version": 3
   },
   "file_extension": ".py",
   "mimetype": "text/x-python",
   "name": "python",
   "nbconvert_exporter": "python",
   "pygments_lexer": "ipython3",
   "version": "3.12.2"
  }
 },
 "nbformat": 4,
 "nbformat_minor": 2
}
